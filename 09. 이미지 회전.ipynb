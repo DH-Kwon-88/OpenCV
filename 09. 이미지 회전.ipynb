{
 "cells": [
  {
   "cell_type": "markdown",
   "id": "0ab1344c-8e02-4db5-80e3-bd753552e142",
   "metadata": {},
   "source": [
    "## 9. 이미지 회전"
   ]
  },
  {
   "cell_type": "markdown",
   "id": "6ad4ea07-ddb6-48d6-8595-a525aea0da1c",
   "metadata": {},
   "source": [
    "시계 방향 90도 회전"
   ]
  },
  {
   "cell_type": "code",
   "execution_count": 4,
   "id": "15216e05-8d48-4a10-823c-6848d18a6404",
   "metadata": {},
   "outputs": [],
   "source": [
    "import cv2\n",
    "img = cv2.imread('img.jpg')\n",
    "\n",
    "rotate_90 = cv2.rotate(img, cv2.ROTATE_90_CLOCKWISE)\n",
    "\n",
    "cv2.imshow('img', img)\n",
    "cv2.imshow('rotate_90', rotate_90)\n",
    "cv2.waitKey(0)\n",
    "cv2.destroyAllWindows()"
   ]
  },
  {
   "cell_type": "markdown",
   "id": "160c0fc5-e255-418d-88c5-4b9540cb2ea5",
   "metadata": {},
   "source": [
    "180도 회전"
   ]
  },
  {
   "cell_type": "code",
   "execution_count": 5,
   "id": "794c1a3e-daae-415c-a439-fc5feb157281",
   "metadata": {},
   "outputs": [],
   "source": [
    "import cv2\n",
    "img = cv2.imread('img.jpg')\n",
    "\n",
    "rotate_180 = cv2.rotate(img, cv2.ROTATE_180)\n",
    "\n",
    "cv2.imshow('img', img)\n",
    "cv2.imshow('rotate_180', rotate_180)\n",
    "cv2.waitKey(0)\n",
    "cv2.destroyAllWindows()"
   ]
  },
  {
   "cell_type": "markdown",
   "id": "c7e76619-d29a-4f5b-9b65-4c9607ace984",
   "metadata": {},
   "source": [
    "시계 반대방향 90도 회전(시계방향 270도 회전)"
   ]
  },
  {
   "cell_type": "code",
   "execution_count": 6,
   "id": "4ddfac53-ef8e-4a52-9c8d-bdd1e071b2a7",
   "metadata": {},
   "outputs": [],
   "source": [
    "import cv2\n",
    "img = cv2.imread('img.jpg')\n",
    "\n",
    "rotate_270 = cv2.rotate(img, cv2.ROTATE_90_COUNTERCLOCKWISE)\n",
    "\n",
    "cv2.imshow('img', img)\n",
    "cv2.imshow('rotate_270', rotate_270)\n",
    "cv2.waitKey(0)\n",
    "cv2.destroyAllWindows()"
   ]
  }
 ],
 "metadata": {
  "kernelspec": {
   "display_name": "Python 3 (ipykernel)",
   "language": "python",
   "name": "python3"
  },
  "language_info": {
   "codemirror_mode": {
    "name": "ipython",
    "version": 3
   },
   "file_extension": ".py",
   "mimetype": "text/x-python",
   "name": "python",
   "nbconvert_exporter": "python",
   "pygments_lexer": "ipython3",
   "version": "3.11.7"
  }
 },
 "nbformat": 4,
 "nbformat_minor": 5
}
