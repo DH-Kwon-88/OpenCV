{
 "cells": [
  {
   "cell_type": "markdown",
   "id": "efafac01-ef8c-47b3-8131-494437f5a1cd",
   "metadata": {},
   "source": [
    "## 16. 이미지 변환 (열림&닫힘)"
   ]
  },
  {
   "cell_type": "markdown",
   "id": "6c0257d8-9a2e-4171-87e3-f46c73c25a8c",
   "metadata": {},
   "source": [
    "### 열림 (Opening) : 침식 후 팽창, 깍아서 노이즈 제거 후 살 찌움\n",
    "> dilate(eroce(image))"
   ]
  },
  {
   "cell_type": "code",
   "execution_count": 2,
   "id": "58bcd842-e615-4842-ae9c-6550318a90f5",
   "metadata": {},
   "outputs": [],
   "source": [
    "import cv2\n",
    "import numpy as np\n",
    "\n",
    "kernel = np.ones((3, 3), dtype=np.uint8)\n",
    "img = cv2.imread('erode.png', cv2.IMREAD_GRAYSCALE)\n",
    "\n",
    "erode = cv2.erode(img, kernel, iterations=3)\n",
    "dilate = cv2.dilate(erode, kernel, iterations=3)\n",
    "\n",
    "cv2.imshow('img', img)\n",
    "cv2.imshow('erode', erode)\n",
    "cv2.imshow('dilate', dilate)\n",
    "cv2.waitKey(0)\n",
    "cv2.destroyAllWindows()"
   ]
  },
  {
   "cell_type": "markdown",
   "id": "5258d066-57ff-4458-b53c-9d5f29d554e3",
   "metadata": {},
   "source": [
    "### 닫힘(Closing) : 팽창 후 침식, 구멍을 메운 후 다시 깍음\n",
    "> erode(dilate(image))"
   ]
  },
  {
   "cell_type": "code",
   "execution_count": 4,
   "id": "2cad5cf0-4ae1-4c9a-8d40-63d3296bc6ae",
   "metadata": {},
   "outputs": [],
   "source": [
    "import cv2\n",
    "import numpy as np\n",
    "\n",
    "kernel = np.ones((3, 3), dtype=np.uint8)\n",
    "img = cv2.imread('dilate.png', cv2.IMREAD_GRAYSCALE)\n",
    "\n",
    "dilate = cv2.dilate(img, kernel, iterations=3)\n",
    "erode = cv2.erode(dilate, kernel, iterations=3)\n",
    "\n",
    "cv2.imshow('img', img)\n",
    "cv2.imshow('dilate', dilate)\n",
    "cv2.imshow('erode', erode)\n",
    "cv2.waitKey(0)\n",
    "cv2.destroyAllWindows()"
   ]
  }
 ],
 "metadata": {
  "kernelspec": {
   "display_name": "Python 3 (ipykernel)",
   "language": "python",
   "name": "python3"
  },
  "language_info": {
   "codemirror_mode": {
    "name": "ipython",
    "version": 3
   },
   "file_extension": ".py",
   "mimetype": "text/x-python",
   "name": "python",
   "nbconvert_exporter": "python",
   "pygments_lexer": "ipython3",
   "version": "3.11.7"
  }
 },
 "nbformat": 4,
 "nbformat_minor": 5
}
