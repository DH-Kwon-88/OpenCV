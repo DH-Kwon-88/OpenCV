{
 "cells": [
  {
   "cell_type": "markdown",
   "id": "0a9271b7-cd70-49c9-8e5a-bb05ed29307f",
   "metadata": {},
   "source": [
    "## 12. 이미지 변형(원근)"
   ]
  },
  {
   "cell_type": "markdown",
   "id": "00bd0092-6cbc-4874-b5e4-56d7f133533d",
   "metadata": {},
   "source": [
    "### 사다리꼴 이미지 펼치기"
   ]
  },
  {
   "cell_type": "code",
   "execution_count": 4,
   "id": "badd98fd-e76f-4dde-aeda-7285667b1b50",
   "metadata": {},
   "outputs": [],
   "source": [
    "import cv2\n",
    "import numpy as np\n",
    "\n",
    "img = cv2.imread('newspaper.jpg')\n",
    "\n",
    "width, height = 640, 240 # 가로크기 640, 세로크기 240으로 결과물 출력\n",
    "\n",
    "src = np.array([[511, 352], [1008, 345], [1122, 584], [455, 594]], dtype=np.float32) # input 4개 지점 정의\n",
    "dst = np.array([[0, 0], [width, 0], [width, height], [0, height]], dtype=np.float32) # output 4개 지점 정의\n",
    "# 좌상, 우상, 우하, 좌하 (시계 방향으로 4 지점 정의)\n",
    "matrix = cv2.getPerspectiveTransform(src, dst) # matrix 얻어옴\n",
    "result = cv2.warpPerspective(img, matrix, (width, height)) # ㅡmatrix 대로 변환을 함\n",
    "\n",
    "cv2.imshow('newspaper', img)\n",
    "cv2.imshow('%reset', result)\n",
    "cv2.waitKey(0)\n",
    "cv2.destroyAllWindows()"
   ]
  },
  {
   "cell_type": "markdown",
   "id": "7c5c6c34-b927-4792-affb-8346cd70645a",
   "metadata": {},
   "source": [
    "### 회전된 이미지 올바로 세우기"
   ]
  },
  {
   "cell_type": "code",
   "execution_count": 5,
   "id": "0ce701a0-f490-419d-a2ff-a23f293fc143",
   "metadata": {},
   "outputs": [],
   "source": [
    "import cv2\n",
    "import numpy as np\n",
    "\n",
    "img = cv2.imread('poker.jpg')\n",
    "\n",
    "width, height = 530, 710 # 가로크기 530, 세로크기 710으로 결과물 출력\n",
    "\n",
    "src = np.array([[702, 143], [1133, 414], [726,1007], [276,700]], dtype=np.float32) # input 4개 지점 정의\n",
    "dst = np.array([[0, 0], [width, 0], [width, height], [0, height]], dtype=np.float32) # output 4개 지점 정의\n",
    "# 좌상, 우상, 우하, 좌하 (시계 방향으로 4 지점 정의)\n",
    "matrix = cv2.getPerspectiveTransform(src, dst) # matrix 얻어옴\n",
    "result = cv2.warpPerspective(img, matrix, (width, height)) # ㅡmatrix 대로 변환을 함\n",
    "\n",
    "cv2.imshow('newspaper', img)\n",
    "cv2.imshow('%reset', result)\n",
    "cv2.waitKey(0)\n",
    "cv2.destroyAllWindows()"
   ]
  },
  {
   "cell_type": "markdown",
   "id": "5ec7a51b-e9bf-4550-a497-68d898341f21",
   "metadata": {},
   "source": [
    "## 미니 프로젝트 : 반자동 문서 스캐너"
   ]
  },
  {
   "cell_type": "markdown",
   "id": "cc58a603-25ba-476e-8efe-caf5b67f01ee",
   "metadata": {},
   "source": [
    "### 마우스 이벤트 등록"
   ]
  },
  {
   "cell_type": "code",
   "execution_count": 15,
   "id": "0f3a92dc-36e9-4c00-b897-16cd22d53dfa",
   "metadata": {},
   "outputs": [
    {
     "name": "stdout",
     "output_type": "stream",
     "text": [
      "왼쪽버튼 Down\n",
      "56 766\n",
      "왼쩍버튼 up\n",
      "56 766\n",
      "왼쪽버튼 더블클릭\n",
      "왼쩍버튼 up\n",
      "56 766\n"
     ]
    }
   ],
   "source": [
    "import cv2\n",
    "\n",
    "def mouse_handler(event, x, y, flags, param):\n",
    "    if event == cv2.EVENT_LBUTTONDOWN: # 마우스 왼쪽 버튼 down\n",
    "        print('왼쪽버튼 Down')\n",
    "        print(x, y)\n",
    "    elif event == cv2.EVENT_LBUTTONUP: # 마우스 왼쪽 버튼 up\n",
    "        print('왼쩍버튼 up')\n",
    "        print(x, y)\n",
    "    elif event == cv2.EVENT_LBUTTONDBLCLK: #마우스 왼쪽 버튼 더블클릭\n",
    "        print('왼쪽버튼 더블클릭')\n",
    "#    elif event == cv2.EVENT_MOUSEMOVE: # 마우스 이동\n",
    "#    print('마우스 이동')\n",
    "    elif event == cv2.EVENT_RBUTTONDOWN: # 마우스 오른쪽 버튼 down\n",
    "        print('오른쪽 버튼 down')\n",
    "\n",
    "img = cv2.imread('poker.jpg')\n",
    "cv2.namedWindow('img') # img 란 이름의 윈도우를 먼저 만들어 두는것, 여기에 마우스 이벤트를 처리하기 위한 핸들러 적용\n",
    "cv2.setMouseCallback('img', mouse_handler)\n",
    "cv2.imshow('img', img)\n",
    "cv2.waitKey(0)\n",
    "cv2.destroyAllWindows()"
   ]
  },
  {
   "cell_type": "markdown",
   "id": "51a8919d-f0da-42be-80b2-ac908f0121cd",
   "metadata": {},
   "source": [
    "### 프로젝트 "
   ]
  },
  {
   "cell_type": "code",
   "execution_count": 22,
   "id": "724e8086-597b-4fa9-a732-12b7ea3eb316",
   "metadata": {},
   "outputs": [],
   "source": [
    "import cv2\n",
    "import numpy as np\n",
    "\n",
    "point_list = []\n",
    "src_img = cv2.imread('poker.jpg')\n",
    "COLOR = (255, 0, 255) # 핑크\n",
    "\n",
    "def mouse_handler(event, x, y, flags, param):\n",
    "    if event == cv2.EVENT_LBUTTONDOWN: # 마우스 왼쪽 버튼 down\n",
    "        point_list.append((x, y))\n",
    "\n",
    "    for point in point_list:\n",
    "        cv2.circle(src_img, point, 15, COLOR, cv2.FILLED)\n",
    "\n",
    "    if len(point_list) == 4:\n",
    "        show_result() # 결과 출력\n",
    "\n",
    "    cv2.imshow('img', src_img)\n",
    "\n",
    "def show_result():\n",
    "    width, height = 530, 710 # 가로크기 530, 세로크기 710으로 결과물 출력\n",
    "    \n",
    "    src = np.float32(point_list)\n",
    "    dst = np.array([[0, 0], [width, 0], [width, height], [0, height]], dtype=np.float32) # output 4개 지점 정의\n",
    "    # 좌상, 우상, 우하, 좌하 (시계 방향으로 4 지점 정의)\n",
    "    matrix = cv2.getPerspectiveTransform(src, dst) # matrix 얻어옴\n",
    "    result = cv2.warpPerspective(src_img, matrix, (width, height)) # ㅡmatrix 대로 변환을 함\n",
    "    cv2.imshow('result', result)\n",
    "\n",
    "cv2.namedWindow('img') # img 란 이름의 윈도우를 먼저 만들어 두는것, 여기에 마우스 이벤트를 처리하기 위한 핸들러 적용\n",
    "cv2.setMouseCallback('img', mouse_handler)\n",
    "cv2.imshow('img', src_img)\n",
    "cv2.waitKey(0)\n",
    "cv2.destroyAllWindows()"
   ]
  },
  {
   "cell_type": "code",
   "execution_count": 30,
   "id": "6dde85cb-4ee0-4fc0-a5ef-a13616848b6a",
   "metadata": {},
   "outputs": [],
   "source": [
    "import cv2\n",
    "import numpy as np\n",
    "\n",
    "point_list = []\n",
    "src_img = cv2.imread('poker.jpg')\n",
    "COLOR = (255, 0, 255) # 핑크\n",
    "THICKNESS = 3\n",
    "drawing = False # 선을 그릴지 여부\n",
    "\n",
    "def mouse_handler(event, x, y, flags, param):\n",
    "    global drawing\n",
    "    dst_img = src_img.copy()\n",
    "    \n",
    "    if event == cv2.EVENT_LBUTTONDOWN: # 마우스 왼쪽 버튼 down\n",
    "        drawing = True\n",
    "        point_list.append((x, y))\n",
    "\n",
    "    if drawing:\n",
    "        prev_point = None # 직선의 시작점\n",
    "        for point in point_list:\n",
    "            cv2.circle(dst_img, point, 15, COLOR, cv2.FILLED)\n",
    "            if prev_point:\n",
    "                cv2.line(dst_img, prev_point, point, COLOR, THICKNESS, cv2.LINE_AA)\n",
    "            prev_point = point\n",
    "\n",
    "        next_point = (x, y)\n",
    "        if len(point_list) == 4:\n",
    "            show_result() # 결과 출력\n",
    "            next_point = point_list[0] # 첫번째 클릭한 지점\n",
    "\n",
    "        cv2.line(dst_img, prev_point, next_point, COLOR, THICKNESS, cv2.LINE_AA)\n",
    "\n",
    "    cv2.imshow('img', dst_img)\n",
    "\n",
    "def show_result():\n",
    "    width, height = 530, 710 # 가로크기 530, 세로크기 710으로 결과물 출력\n",
    "    \n",
    "    src = np.float32(point_list)\n",
    "    dst = np.array([[0, 0], [width, 0], [width, height], [0, height]], dtype=np.float32) # output 4개 지점 정의\n",
    "    # 좌상, 우상, 우하, 좌하 (시계 방향으로 4 지점 정의)\n",
    "    matrix = cv2.getPerspectiveTransform(src, dst) # matrix 얻어옴\n",
    "    result = cv2.warpPerspective(src_img, matrix, (width, height)) # ㅡmatrix 대로 변환을 함\n",
    "    cv2.imshow('result', result)\n",
    "\n",
    "cv2.namedWindow('img') # img 란 이름의 윈도우를 먼저 만들어 두는것, 여기에 마우스 이벤트를 처리하기 위한 핸들러 적용\n",
    "cv2.setMouseCallback('img', mouse_handler)\n",
    "cv2.imshow('img', src_img)\n",
    "cv2.waitKey(0)\n",
    "cv2.destroyAllWindows()"
   ]
  }
 ],
 "metadata": {
  "kernelspec": {
   "display_name": "Python 3 (ipykernel)",
   "language": "python",
   "name": "python3"
  },
  "language_info": {
   "codemirror_mode": {
    "name": "ipython",
    "version": 3
   },
   "file_extension": ".py",
   "mimetype": "text/x-python",
   "name": "python",
   "nbconvert_exporter": "python",
   "pygments_lexer": "ipython3",
   "version": "3.11.7"
  }
 },
 "nbformat": 4,
 "nbformat_minor": 5
}
