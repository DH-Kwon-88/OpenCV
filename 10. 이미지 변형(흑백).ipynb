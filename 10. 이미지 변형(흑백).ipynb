{
 "cells": [
  {
   "cell_type": "markdown",
   "id": "b5eaf371-cf43-4d66-9a79-c6bea59c466d",
   "metadata": {},
   "source": [
    "## 10. 이미지 변형(흑백)"
   ]
  },
  {
   "cell_type": "markdown",
   "id": "405b9141-b7b5-4053-bc85-be5002b969ed",
   "metadata": {},
   "source": [
    "이미지를 흑백으로 변경"
   ]
  },
  {
   "cell_type": "code",
   "execution_count": 1,
   "id": "01f167ef-ad41-48f6-a759-272781974f41",
   "metadata": {},
   "outputs": [],
   "source": [
    "import cv2\n",
    "img = cv2.imread('img.jpg', cv2.IMREAD_GRAYSCALE)\n",
    "cv2.imshow('img', img)\n",
    "cv2.waitKey(0)\n",
    "cv2.destroyAllWindows()"
   ]
  },
  {
   "cell_type": "markdown",
   "id": "165d84e6-0e39-4424-a724-1392855b7fc5",
   "metadata": {},
   "source": [
    "불러온 이미지를 흑백으로 변경"
   ]
  },
  {
   "cell_type": "code",
   "execution_count": 4,
   "id": "36b0da9e-4ac6-42d9-8668-3eaf3939836f",
   "metadata": {},
   "outputs": [],
   "source": [
    "import cv2\n",
    "img = cv2.imread('img.jpg')\n",
    "\n",
    "dst = cv2.cvtColor(img, cv2.COLOR_BGR2GRAY)\n",
    "\n",
    "cv2.imshow('img', img)\n",
    "cv2.imshow('gray', dst)\n",
    "cv2.waitKey(0)\n",
    "cv2.destroyAllWindows()"
   ]
  }
 ],
 "metadata": {
  "kernelspec": {
   "display_name": "Python 3 (ipykernel)",
   "language": "python",
   "name": "python3"
  },
  "language_info": {
   "codemirror_mode": {
    "name": "ipython",
    "version": 3
   },
   "file_extension": ".py",
   "mimetype": "text/x-python",
   "name": "python",
   "nbconvert_exporter": "python",
   "pygments_lexer": "ipython3",
   "version": "3.11.7"
  }
 },
 "nbformat": 4,
 "nbformat_minor": 5
}
