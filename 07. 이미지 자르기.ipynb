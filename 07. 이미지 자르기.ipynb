{
 "cells": [
  {
   "cell_type": "markdown",
   "id": "7fd5846b-7f66-47ec-aa4b-c662db98fe0f",
   "metadata": {},
   "source": [
    "## 7. 이미지 자르기"
   ]
  },
  {
   "cell_type": "markdown",
   "id": "e977293c-6cdb-4447-8f22-ac518e3ba8de",
   "metadata": {},
   "source": [
    "영역을 잘라서 새로운 윈도우(창)에 표시"
   ]
  },
  {
   "cell_type": "code",
   "execution_count": 2,
   "id": "cb49579f-4b76-47a7-9319-88dd1179a5dc",
   "metadata": {},
   "outputs": [],
   "source": [
    "import cv2\n",
    "img = cv2.imread('img.jpg')\n",
    "# img.shape #(390,640,3)\n",
    "crop = img[100:200, 200:400] #세로 기준 100:200까지, 가로기준 200:400 까지 자름\n",
    "\n",
    "cv2.imshow('img', img)\n",
    "cv2.imshow('crop', crop)\n",
    "cv2.waitKey(0)\n",
    "cv2.destroyAllWindows()"
   ]
  },
  {
   "cell_type": "markdown",
   "id": "1a56d9ac-ca5a-4cf2-8e7e-c59f2e3048be",
   "metadata": {},
   "source": [
    "영역을 잘라서 기존 윈도우에 표시"
   ]
  },
  {
   "cell_type": "code",
   "execution_count": 3,
   "id": "12be8ede-c738-4b29-9efc-aec686a3f930",
   "metadata": {},
   "outputs": [],
   "source": [
    "import cv2\n",
    "img = cv2.imread('img.jpg')\n",
    "\n",
    "crop = img[100:200, 200:400] #세로 기준 100:200까지, 가로기준 200:400 까지 자름\n",
    "img[100:200, 400:600] = crop #세로 기준 100:200까지, 가로기준 200:400 까지 자른 이미지를 이미지 400:600위치에 붙여넣기\n",
    "\n",
    "cv2.imshow('img', img)\n",
    "cv2.waitKey(0)\n",
    "cv2.destroyAllWindows()"
   ]
  },
  {
   "cell_type": "code",
   "execution_count": null,
   "id": "ed74c7ed-c5df-4d0d-a030-fd9ef95b5a0a",
   "metadata": {},
   "outputs": [],
   "source": []
  }
 ],
 "metadata": {
  "kernelspec": {
   "display_name": "Python 3 (ipykernel)",
   "language": "python",
   "name": "python3"
  },
  "language_info": {
   "codemirror_mode": {
    "name": "ipython",
    "version": 3
   },
   "file_extension": ".py",
   "mimetype": "text/x-python",
   "name": "python",
   "nbconvert_exporter": "python",
   "pygments_lexer": "ipython3",
   "version": "3.11.7"
  }
 },
 "nbformat": 4,
 "nbformat_minor": 5
}
