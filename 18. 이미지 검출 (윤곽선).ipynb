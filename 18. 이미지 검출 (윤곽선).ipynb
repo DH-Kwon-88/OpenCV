{
 "cells": [
  {
   "cell_type": "markdown",
   "id": "50451d01-6841-45e1-a1e5-7c50cf41d46b",
   "metadata": {},
   "source": [
    "## 18. 이미지 검출 (윤곽선)"
   ]
  },
  {
   "cell_type": "code",
   "execution_count": 6,
   "id": "b44f09c4-81fe-4737-9f40-a2673a730792",
   "metadata": {},
   "outputs": [],
   "source": [
    "import cv2\n",
    "\n",
    "img = cv2.imread('card.png')\n",
    "target_img = img.copy() # 사본(복사한) 이미지\n",
    "\n",
    "gray = cv2.cvtColor(img, cv2.COLOR_BGR2GRAY)\n",
    "ret, otsu = cv2.threshold(gray, -1, 255, cv2.THRESH_BINARY | cv2.THRESH_OTSU)\n",
    "\n",
    "contours, hierarchy = cv2.findContours(otsu, cv2.RETR_LIST, cv2.CHAIN_APPROX_NONE)\n",
    "# 윤곽선 정보, 계층구조 = 이미지, 윤곽선 착는 모드(mode), 윤곽선 찾을때 사용하는 근사치 방법(method)\n",
    "\n",
    "COLOR = (0, 200, 0) # 녹색\n",
    "cv2.drawContours(target_img, contours, -1, COLOR, 2) # 윤곽선 그리기\n",
    "# 대상이미지, 윤곽선정보, 인덱스(-1이면 전체), 색깔, 두께\n",
    "\n",
    "cv2.imshow('img', img)\n",
    "cv2.imshow('gray', gray)\n",
    "cv2.imshow('otsu', otsu)\n",
    "cv2.imshow('contour', target_img)\n",
    "cv2.waitKey(0)\n",
    "cv2.destroyAllWindows()"
   ]
  },
  {
   "cell_type": "markdown",
   "id": "ed3ce3dc-b2c9-4eec-9b3f-fc87621a283d",
   "metadata": {},
   "source": [
    "### 윤곽선 찾기 모드\n",
    "1. cv2.RETR_EXTERNAL : 가장 외곽의 윤곽선만 찾음\n",
    "1. cv2.RETR_LIST : 모든 윤곽선 찾음(계층 정보 없음)\n",
    "1. cv2.RETR_TREE : 모든 윤곽선 찾음( 계층정보를 트리 구조로 생성)"
   ]
  },
  {
   "cell_type": "code",
   "execution_count": 12,
   "id": "74759367-f599-45c5-98eb-b3a8c15ab872",
   "metadata": {},
   "outputs": [
    {
     "name": "stdout",
     "output_type": "stream",
     "text": [
      "[[[ 1 -1 -1 -1]\n",
      "  [ 2  0 -1 -1]\n",
      "  [10  1  3 -1]\n",
      "  [ 5 -1  4  2]\n",
      "  [-1 -1 -1  3]\n",
      "  [ 6  3 -1  2]\n",
      "  [ 7  5 -1  2]\n",
      "  [ 8  6 -1  2]\n",
      "  [-1  7  9  2]\n",
      "  [-1 -1 -1  8]\n",
      "  [18  2 11 -1]\n",
      "  [13 -1 12 10]\n",
      "  [-1 -1 -1 11]\n",
      "  [14 11 -1 10]\n",
      "  [15 13 -1 10]\n",
      "  [16 14 -1 10]\n",
      "  [-1 15 17 10]\n",
      "  [-1 -1 -1 16]\n",
      "  [26 10 19 -1]\n",
      "  [21 -1 20 18]\n",
      "  [-1 -1 -1 19]\n",
      "  [22 19 -1 18]\n",
      "  [23 21 -1 18]\n",
      "  [24 22 -1 18]\n",
      "  [-1 23 25 18]\n",
      "  [-1 -1 -1 24]\n",
      "  [34 18 27 -1]\n",
      "  [29 -1 28 26]\n",
      "  [-1 -1 -1 27]\n",
      "  [30 27 -1 26]\n",
      "  [31 29 -1 26]\n",
      "  [32 30 -1 26]\n",
      "  [-1 31 33 26]\n",
      "  [-1 -1 -1 32]\n",
      "  [35 26 -1 -1]\n",
      "  [-1 34 -1 -1]]]\n",
      "총 발견 갯수 : 36\n"
     ]
    }
   ],
   "source": [
    "import cv2\n",
    "\n",
    "img = cv2.imread('card.png')\n",
    "target_img = img.copy() # 사본(복사한) 이미지\n",
    "\n",
    "gray = cv2.cvtColor(img, cv2.COLOR_BGR2GRAY)\n",
    "ret, otsu = cv2.threshold(gray, -1, 255, cv2.THRESH_BINARY | cv2.THRESH_OTSU)\n",
    "\n",
    "# contours, hierarchy = cv2.findContours(otsu, cv2.RETR_LIST, cv2.CHAIN_APPROX_NONE)\n",
    "# 윤곽선 정보, 계층구조 = 이미지, 윤곽선 착는 모드(mode), 윤곽선 찾을때 사용하는 근사치 방법(method)\n",
    "contours, hierarchy = cv2.findContours(otsu, cv2.RETR_EXTERNAL, cv2.CHAIN_APPROX_NONE)\n",
    "# contours, hierarchy = cv2.findContours(otsu, cv2.RETR_TREE, cv2.CHAIN_APPROX_NONE)\n",
    "print(hierarchy)\n",
    "print(f'총 발견 갯수 : {len(contours)}')\n",
    "COLOR = (0, 200, 0) # 녹색\n",
    "cv2.drawContours(target_img, contours, -1, COLOR, 2) # 윤곽선 그리기\n",
    "# 대상이미지, 윤곽선정보, 인덱스(-1이면 전체), 색깔, 두께\n",
    "\n",
    "cv2.imshow('img', img)\n",
    "cv2.imshow('gray', gray)\n",
    "cv2.imshow('otsu', otsu)\n",
    "cv2.imshow('contour', target_img)\n",
    "cv2.waitKey(0)\n",
    "cv2.destroyAllWindows()"
   ]
  },
  {
   "cell_type": "markdown",
   "id": "7544d696-121a-4d4e-94ba-c1da597eb0a8",
   "metadata": {},
   "source": [
    "### 경계 사각형\n",
    "윤곽선의 경계면을 둘러싸는 사각형\n",
    "> boundingRect()"
   ]
  },
  {
   "cell_type": "code",
   "execution_count": 13,
   "id": "f663680b-345f-4c54-9aa2-18734d7cda57",
   "metadata": {},
   "outputs": [],
   "source": [
    "import cv2\n",
    "\n",
    "img = cv2.imread('card.png')\n",
    "target_img = img.copy() # 사본(복사한) 이미지\n",
    "\n",
    "gray = cv2.cvtColor(img, cv2.COLOR_BGR2GRAY)\n",
    "ret, otsu = cv2.threshold(gray, -1, 255, cv2.THRESH_BINARY | cv2.THRESH_OTSU)\n",
    "contours, hierarchy = cv2.findContours(otsu, cv2.RETR_LIST, cv2.CHAIN_APPROX_NONE)\n",
    "\n",
    "COLOR = (0, 200, 0) # 녹색\n",
    "\n",
    "for cnt in contours:\n",
    "    x, y, width, height = cv2.boundingRect(cnt)\n",
    "    cv2.rectangle(target_img, (x, y), (x + width, y + height), COLOR, 2)\n",
    "\n",
    "cv2.imshow('img', img)\n",
    "cv2.imshow('gray', gray)\n",
    "cv2.imshow('otsu', otsu)\n",
    "cv2.imshow('contour', target_img)\n",
    "cv2.waitKey(0)\n",
    "cv2.destroyAllWindows()"
   ]
  },
  {
   "cell_type": "markdown",
   "id": "420e9840-5fb0-4fbd-9da5-8cc36b5d6f9d",
   "metadata": {},
   "source": [
    "### 면적\n",
    "> contourArea()"
   ]
  },
  {
   "cell_type": "code",
   "execution_count": 14,
   "id": "a1809245-26c6-4a8a-8679-7a880ae1a2b4",
   "metadata": {},
   "outputs": [],
   "source": [
    "import cv2\n",
    "\n",
    "img = cv2.imread('card.png')\n",
    "target_img = img.copy() # 사본(복사한) 이미지\n",
    "\n",
    "gray = cv2.cvtColor(img, cv2.COLOR_BGR2GRAY)\n",
    "ret, otsu = cv2.threshold(gray, -1, 255, cv2.THRESH_BINARY | cv2.THRESH_OTSU)\n",
    "contours, hierarchy = cv2.findContours(otsu, cv2.RETR_LIST, cv2.CHAIN_APPROX_NONE)\n",
    "\n",
    "COLOR = (0, 200, 0) # 녹색\n",
    "\n",
    "for cnt in contours:\n",
    "    if cv2.contourArea(cnt) > 25000:\n",
    "        x, y, width, height = cv2.boundingRect(cnt)\n",
    "        cv2.rectangle(target_img, (x, y), (x + width, y + height), COLOR, 2)\n",
    "\n",
    "cv2.imshow('img', img)\n",
    "cv2.imshow('contour', target_img)\n",
    "cv2.waitKey(0)\n",
    "cv2.destroyAllWindows()"
   ]
  },
  {
   "cell_type": "code",
   "execution_count": null,
   "id": "a7aa2dfb-6952-4d45-9dfd-1f7c556909e7",
   "metadata": {},
   "outputs": [],
   "source": []
  },
  {
   "cell_type": "code",
   "execution_count": null,
   "id": "3e91cee6-52b5-4e8b-84f5-e4079af97115",
   "metadata": {},
   "outputs": [],
   "source": []
  },
  {
   "cell_type": "code",
   "execution_count": null,
   "id": "21491656-68d7-4d66-b59b-d8b68820460f",
   "metadata": {},
   "outputs": [],
   "source": []
  },
  {
   "cell_type": "code",
   "execution_count": null,
   "id": "0a5996aa-cd91-4ce9-9383-158bd7d053a0",
   "metadata": {},
   "outputs": [],
   "source": []
  }
 ],
 "metadata": {
  "kernelspec": {
   "display_name": "Python 3 (ipykernel)",
   "language": "python",
   "name": "python3"
  },
  "language_info": {
   "codemirror_mode": {
    "name": "ipython",
    "version": 3
   },
   "file_extension": ".py",
   "mimetype": "text/x-python",
   "name": "python",
   "nbconvert_exporter": "python",
   "pygments_lexer": "ipython3",
   "version": "3.11.7"
  }
 },
 "nbformat": 4,
 "nbformat_minor": 5
}
