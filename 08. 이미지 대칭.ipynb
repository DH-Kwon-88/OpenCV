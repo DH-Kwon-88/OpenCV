{
 "cells": [
  {
   "cell_type": "markdown",
   "id": "6dcbac25-3f3a-423e-8cc0-3a2aa888e96f",
   "metadata": {},
   "source": [
    "## 8. 이미지 대칭"
   ]
  },
  {
   "cell_type": "markdown",
   "id": "c6c35a76-65c9-4610-8190-393ee9fab567",
   "metadata": {},
   "source": [
    "좌우대칭"
   ]
  },
  {
   "cell_type": "code",
   "execution_count": 1,
   "id": "bc735734-775c-4998-959b-f58cf4b0698c",
   "metadata": {},
   "outputs": [],
   "source": [
    "import cv2\n",
    "img = cv2.imread('img.jpg')\n",
    "flip_horizontal = cv2.flip(img, 1) # flipCode > 0 : 좌우 대칭 horizontal\n",
    "\n",
    "cv2.imshow('img', img)\n",
    "cv2.imshow('flip_horizontal', flip_horizontal)\n",
    "cv2.waitKey(0)\n",
    "cv2.destroyAllWindows()"
   ]
  },
  {
   "cell_type": "markdown",
   "id": "78124327-5092-483b-91b4-1c6040a79f2d",
   "metadata": {},
   "source": [
    "상하대칭"
   ]
  },
  {
   "cell_type": "code",
   "execution_count": 2,
   "id": "a4566e6f-afce-40b8-85ab-c6641436c16c",
   "metadata": {},
   "outputs": [],
   "source": [
    "import cv2\n",
    "img = cv2.imread('img.jpg')\n",
    "flip_vertical = cv2.flip(img, 0) # flipCode == 0 : 상하 대칭 vertical\n",
    "\n",
    "cv2.imshow('img', img)\n",
    "cv2.imshow('flip_vertical', flip_vertical)\n",
    "cv2.waitKey(0)\n",
    "cv2.destroyAllWindows()"
   ]
  },
  {
   "cell_type": "markdown",
   "id": "51287554-d365-4157-a847-b76489928abb",
   "metadata": {},
   "source": [
    "상하좌우대칭"
   ]
  },
  {
   "cell_type": "code",
   "execution_count": 3,
   "id": "e49dd8e3-2cc8-4e7c-9f21-6c7f783cee26",
   "metadata": {},
   "outputs": [],
   "source": [
    "import cv2\n",
    "img = cv2.imread('img.jpg')\n",
    "flip_both = cv2.flip(img, -1) # flipCode < 0 : 상하좌우 대칭\n",
    "\n",
    "cv2.imshow('img', img)\n",
    "cv2.imshow('flip_both', flip_both)\n",
    "cv2.waitKey(0)\n",
    "cv2.destroyAllWindows()"
   ]
  }
 ],
 "metadata": {
  "kernelspec": {
   "display_name": "Python 3 (ipykernel)",
   "language": "python",
   "name": "python3"
  },
  "language_info": {
   "codemirror_mode": {
    "name": "ipython",
    "version": 3
   },
   "file_extension": ".py",
   "mimetype": "text/x-python",
   "name": "python",
   "nbconvert_exporter": "python",
   "pygments_lexer": "ipython3",
   "version": "3.11.7"
  }
 },
 "nbformat": 4,
 "nbformat_minor": 5
}
