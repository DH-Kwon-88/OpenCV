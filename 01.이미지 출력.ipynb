{
 "cells": [
  {
   "cell_type": "markdown",
   "id": "8f905a9f-e12e-48b4-99f7-88bafd92ed8f",
   "metadata": {},
   "source": [
    "# 환경설정\n",
    "anaconda Prompt 에서 다음 명령 수행\n",
    "> pip install opencv_python\n"
   ]
  },
  {
   "cell_type": "code",
   "execution_count": 1,
   "id": "61839684-9c16-4eb0-aeca-623ecd45bb06",
   "metadata": {},
   "outputs": [
    {
     "data": {
      "text/plain": [
       "'4.9.0'"
      ]
     },
     "execution_count": 1,
     "metadata": {},
     "output_type": "execute_result"
    }
   ],
   "source": [
    "import cv2\n",
    "cv2.__version__"
   ]
  },
  {
   "cell_type": "markdown",
   "id": "144446ef-b3e9-4737-825e-d307e33f7771",
   "metadata": {},
   "source": [
    "# openCV(Computer Vision)\n",
    "다양한 영상(이미지) / 동영상 처리에 사용되는 오픈소스 라이브러리\n"
   ]
  },
  {
   "cell_type": "markdown",
   "id": "f7a5760b-c774-4daa-8001-bf94253d64ed",
   "metadata": {},
   "source": [
    "# 1. 이미지 출력"
   ]
  },
  {
   "cell_type": "code",
   "execution_count": 10,
   "id": "139654a8-b1a7-4ea0-8399-5488d8d66e65",
   "metadata": {},
   "outputs": [
    {
     "name": "stdout",
     "output_type": "stream",
     "text": [
      "113\n"
     ]
    }
   ],
   "source": [
    "import cv2\n",
    "img = cv2.imread('img.jpg') # 해당경로의 파일 읽어오기\n",
    "cv2.imshow('img', img) # img라는 이름의 창에 img를 표시\n",
    "key = cv2.waitKey(0) # 지정된 시간동안 사용자 키 입력 대기\n",
    "print(key)\n",
    "cv2.destroyAllWindows() # 모든 창 닫기"
   ]
  },
  {
   "cell_type": "markdown",
   "id": "b007d211-c4ac-459c-a989-cf831c870b79",
   "metadata": {},
   "source": [
    "## 읽기 옵션\n",
    "1. cv2.IMREAD_COLOR : 컬러 이미지, 투명 영역은 무시(기본값)\n",
    "1. cv2.IMREAD_GRAYSCALE : 흑백 이미지\n",
    "1. cv2.IMREAD_UNCHANGED : 투명 영역까지 포함"
   ]
  },
  {
   "cell_type": "code",
   "execution_count": 12,
   "id": "f3e20009-12aa-4ade-aa1c-284d45f04136",
   "metadata": {},
   "outputs": [],
   "source": [
    "import cv2\n",
    "img_color = cv2.imread('img.jpg', cv2.IMREAD_COLOR)\n",
    "img_gray = cv2.imread('img.jpg', cv2.IMREAD_GRAYSCALE)\n",
    "img_unchanged = cv2.imread('img.jpg', cv2.IMREAD_UNCHANGED)\n",
    "\n",
    "cv2.imshow('img_color', img_color) # img라는 이름의 창에 img를 표시\n",
    "cv2.imshow('img_gray', img_gray) # img라는 이름의 창에 img를 표시\n",
    "cv2.imshow('img_unchanged', img_unchanged) # img라는 이름의 창에 img를 표시\n",
    "\n",
    "key = cv2.waitKey(0) # 지정된 시간동안 사용자 키 입력 대기\n",
    "cv2.destroyAllWindows() # 모든 창 닫기"
   ]
  },
  {
   "cell_type": "markdown",
   "id": "2dec10d7-2caf-4713-8816-a33d7906ffa6",
   "metadata": {},
   "source": [
    "## Shape\n",
    "이미지의 height, width, channel 정보"
   ]
  },
  {
   "cell_type": "code",
   "execution_count": 13,
   "id": "0eb126c5-889d-452b-8b20-94c5ebdb0ddb",
   "metadata": {},
   "outputs": [
    {
     "data": {
      "text/plain": [
       "(427, 640, 3)"
      ]
     },
     "execution_count": 13,
     "metadata": {},
     "output_type": "execute_result"
    }
   ],
   "source": [
    "import cv2\n",
    "img = cv2.imread('img.jpg')\n",
    "img.shape # 가로, 세로, channel"
   ]
  }
 ],
 "metadata": {
  "kernelspec": {
   "display_name": "Python 3 (ipykernel)",
   "language": "python",
   "name": "python3"
  },
  "language_info": {
   "codemirror_mode": {
    "name": "ipython",
    "version": 3
   },
   "file_extension": ".py",
   "mimetype": "text/x-python",
   "name": "python",
   "nbconvert_exporter": "python",
   "pygments_lexer": "ipython3",
   "version": "3.11.7"
  }
 },
 "nbformat": 4,
 "nbformat_minor": 5
}
